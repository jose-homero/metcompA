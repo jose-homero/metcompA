{
  "nbformat": 4,
  "nbformat_minor": 0,
  "metadata": {
    "colab": {
      "name": "two_dices",
      "provenance": []
    },
    "kernelspec": {
      "name": "python3",
      "display_name": "Python 3"
    },
    "language_info": {
      "name": "python"
    }
  },
  "cells": [
    {
      "cell_type": "code",
      "metadata": {
        "id": "qo7D-bL5v_lt"
      },
      "source": [
        "import random as rand \n",
        "import numpy as np\n",
        "import matplotlib.pyplot as plt\n",
        "\n",
        "def dado (n): \n",
        "  A = np.array([rand.randint(1,6) for i in range(n)]) \n",
        "  B = np.array([rand.randint(1,6) for i in range(n)]) \n",
        "  R=A+B\n",
        "  H=np.zeros(12)\n",
        "  for i in R:\n",
        "    H[i-1]+=1\n",
        "  return H, R\n",
        "\n",
        "def media(n,R):\n",
        "  T=0\n",
        "  for i in R:\n",
        "    T = T + i\n",
        "  M= T/n\n",
        "  return M\n",
        "\n",
        "def desvpad(n, R, M):\n",
        "  P=0\n",
        "  for i in R:\n",
        "    P = P + ((i-M)**2)\n",
        "  S=(P/n)**(1/2)\n",
        "  return S\n",
        "\n",
        "n=int(input(\"Digite o número de jogadas: \"))\n",
        "H,R = dado(n)\n",
        "M = media(n,R)\n",
        "S=desvpad(n, R, M)\n",
        "W=(np.mean(R))\n",
        "U=(np.std(R))\n",
        "print (f'Média manual: {M:.4f}\\nDesvio Padrão Manual:{S:.50f}\\nMédia Numpy:{W:.4f}\\nDesvio Numpy:        {U:.50f}\\n')\n",
        "\n",
        "\n",
        "plt.hist(R,bins=12,range=(1,13), align='left', color ='orange')\n",
        "plt.xlabel('Soma dos Dados')\n",
        "plt.ylabel('Quantidade')\n",
        "plt.title('Combinação dos dados')\n",
        "plt.savefig('hist.png', format='png')\n",
        "plt.show()"
      ],
      "execution_count": null,
      "outputs": []
    }
  ]
}