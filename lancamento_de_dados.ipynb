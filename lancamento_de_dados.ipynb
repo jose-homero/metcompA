{
  "nbformat": 4,
  "nbformat_minor": 0,
  "metadata": {
    "colab": {
      "name": "two_dices",
      "provenance": [],
      "authorship_tag": "ABX9TyMZoYp3DjFBrABrY4HKg8l+",
      "include_colab_link": true
    },
    "kernelspec": {
      "name": "python3",
      "display_name": "Python 3"
    },
    "language_info": {
      "name": "python"
    }
  },
  "cells": [
    {
      "cell_type": "markdown",
      "metadata": {
        "id": "view-in-github",
        "colab_type": "text"
      },
      "source": [
        "<a href=\"https://colab.research.google.com/github/jose-homero/metcompA/blob/main/lancamento_de_dados.ipynb\" target=\"_parent\"><img src=\"https://colab.research.google.com/assets/colab-badge.svg\" alt=\"Open In Colab\"/></a>"
      ]
    },
    {
      "cell_type": "code",
      "metadata": {
        "id": "qo7D-bL5v_lt",
        "colab": {
          "base_uri": "https://localhost:8080/",
          "height": 382
        },
        "outputId": "752c118a-5346-4127-a0be-e9e8ba5cb641"
      },
      "source": [
        "import random as rand # para gerar numeros aleatorios\n",
        "import numpy as np # para trabalhar com array \n",
        "import matplotlib.pyplot as plt # para fazer histograma\n",
        "\n",
        "def dado (n): #funcao para lancar os dados\n",
        "#rand gera um numero aleatorio\n",
        "# e armazena em um array\n",
        "  A = np.array([rand.randint(1,6) for i in range(n)]) \n",
        "  B = np.array([rand.randint(1,6) for i in range(n)]) \n",
        "  R=A+B # soma do resultado de cada dados\n",
        "\n",
        "# criação array de zeros\n",
        "  H=np.zeros(12) \n",
        "\n",
        "#laço que armazena a quantidade de cada valor em um espaço do array em ordem crescente\n",
        "  for i in R: \n",
        "    H[i-1]+=1\n",
        "  return H, R\n",
        "\n",
        "def media(n,R): #funcao media\n",
        "#inicia variavel para a soma em 0\n",
        "  T=0 \n",
        "  for i in R:#laço que soma cada valor do dado\n",
        "    T = T + i\n",
        "  M= T/n #calculo da media\n",
        "  return M\n",
        "\n",
        "def desvpad(n, R, M): #funcao desv pad\n",
        "  P=0\n",
        "#mesma coisa da media só que adaptado para o calculo do desv pad\n",
        "  for i in R: \n",
        "    P = P + ((i-M)**2) \n",
        "  S=(P/n)**(1/2)\n",
        "  return S\n",
        "\n",
        "#entrada do numero de lançamentos\n",
        "n=int(input(\"Digite o número de jogadas: \"))\n",
        "#chamada das funcoes \n",
        "H,R = dado(n)\n",
        "M = media(n,R)\n",
        "S=desvpad(n, R, M)\n",
        "\n",
        "#media e desv pad  com as funcoes do numpy\n",
        "W=(np.mean(R))\n",
        "U=(np.std(R))\n",
        "print (f'Média manual: {M:.4f}\\nDesvio Padrão Manual:{S:.4f}\\nMédia Numpy:{W:.4f}\\nDesvio Numpy:{U:.4f}\\n')\n",
        "\n",
        "#histograma\n",
        "plt.hist(R,bins=12,range=(1,13), align='left', color ='orange', edgecolor='black')\n",
        "plt.xlabel('Soma dos Dados')\n",
        "plt.ylabel('Quantidade')\n",
        "plt.title('Combinação dos dados')\n",
        "plt.savefig('hist.png', format='png')\n",
        "plt.show()"
      ],
      "execution_count": 20,
      "outputs": [
        {
          "output_type": "stream",
          "name": "stdout",
          "text": [
            "Média manual: 7.0200\n",
            "Desvio Padrão Manual:2.4400\n",
            "Média Numpy:7.0200\n",
            "Desvio Numpy:2.4400\n",
            "\n"
          ]
        },
        {
          "output_type": "display_data",
          "data": {
            "image/png": "[encoded data removed]",
            "text/plain": [
              "<Figure size 432x288 with 1 Axes>"
            ]
          },
          "metadata": {
            "needs_background": "light"
          }
        }
      ]
    }
  ]
}